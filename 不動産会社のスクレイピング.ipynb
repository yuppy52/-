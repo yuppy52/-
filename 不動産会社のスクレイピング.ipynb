{
 "cells": [
  {
   "cell_type": "code",
   "execution_count": null,
   "metadata": {},
   "outputs": [],
   "source": [
    "from bs4 import BeautifulSoup\n",
    "import requests"
   ]
  },
  {
   "cell_type": "code",
   "execution_count": null,
   "metadata": {},
   "outputs": [],
   "source": [
    "#変数urlにSUUMOホームページのURLを格納\n",
    "url = \"https://suumo.jp/chintai/tokyo/sc_shinjuku/?page={}\"\n",
    "#アクセスするためのURLをtarget_urlに格納\n",
    "target_url = url.format(1)\n",
    "#print()してtarget_urlを確認する。\n",
    "print(target_url)"
   ]
  },
  {
   "cell_type": "code",
   "execution_count": 4,
   "metadata": {},
   "outputs": [],
   "source": [
    "#target_urlへのアクセス結果を変数ｒに格納\n",
    "r = requests.get(target_url)\n",
    "#所得結果を解析してsoupに格納\n",
    "soup = BeautifulSoup(r.text)"
   ]
  },
  {
   "cell_type": "code",
   "execution_count": 5,
   "metadata": {},
   "outputs": [],
   "source": [
    "#cassetteクラスを持ったdivタグをすべて取得して変数contentsに格納\n",
    "contents = soup.find_all(\"div\", class_=\"cassetteitem\")"
   ]
  },
  {
   "cell_type": "code",
   "execution_count": 6,
   "metadata": {},
   "outputs": [
    {
     "data": {
      "text/plain": [
       "20"
      ]
     },
     "execution_count": 6,
     "metadata": {},
     "output_type": "execute_result"
    }
   ],
   "source": [
    "#変数contenstの中身を確認する\n",
    "len(contents)"
   ]
  },
  {
   "cell_type": "code",
   "execution_count": 7,
   "metadata": {},
   "outputs": [],
   "source": [
    "#変数contentにcontentsの最初の要素を格納する\n",
    "content = contents[0]"
   ]
  },
  {
   "cell_type": "code",
   "execution_count": 8,
   "metadata": {},
   "outputs": [],
   "source": [
    "#物件・建物情報を変数detailに格納する\n",
    "detail = content.find(\"div\", class_=\"cassetteitem-detail\")\n",
    "#各部屋の情報を変数tableに格納する\n",
    "table = content.find(\"table\", class_=\"cassetteitem_other\")"
   ]
  },
  {
   "cell_type": "code",
   "execution_count": 11,
   "metadata": {},
   "outputs": [],
   "source": [
    "#変数titleに物件名\n",
    "title = detail.find(\"div\", class_=\"cassetteitem_content-title\").text\n",
    "#変数addressに住所\n",
    "address = detail.find(\"li\", class_=\"cassetteitem_detail-col1\").text\n",
    "#変数accessにアクセス情報\n",
    "access = detail.find(\"li\", class_=\"cassetteitem_detail-col2\").text\n",
    "#変数ageに築年数\n",
    "age = detail.find(\"li\", class_=\"cassetteitem_detail-col3\").text"
   ]
  },
  {
   "cell_type": "code",
   "execution_count": 12,
   "metadata": {},
   "outputs": [
    {
     "data": {
      "text/plain": [
       "('西新宿4丁目戸建て',\n",
       " '東京都新宿区西新宿４',\n",
       " '\\n都営大江戸線/西新宿五丁目駅 歩6分\\n都営大江戸線/都庁前駅 歩10分\\n京王新線/初台駅 歩10分\\n',\n",
       " '\\n築25年\\n3階建\\n')"
      ]
     },
     "execution_count": 12,
     "metadata": {},
     "output_type": "execute_result"
    }
   ],
   "source": [
    "#各変数の取得結果を確認\n",
    "title, address, access, age"
   ]
  },
  {
   "cell_type": "code",
   "execution_count": 13,
   "metadata": {},
   "outputs": [],
   "source": [
    "#変数tableからすべてのtrタグを取得して、変数tr_tagsに格納\n",
    "tr_tags = table.find_all(\"tr\", class_=\"js-cassette_link\")\n",
    "#tr_tagsの中から最初の１つだてtr_tagに格納\n",
    "tr_tag = tr_tags[0]"
   ]
  },
  {
   "cell_type": "code",
   "execution_count": 14,
   "metadata": {},
   "outputs": [],
   "source": [
    "#変数floor, price, first_fee, capacityに４つの情報を格納する\n",
    "floor, price, first_fee, capacity = tr_tag.find_all(\"td\")[2:6]"
   ]
  },
  {
   "cell_type": "code",
   "execution_count": 16,
   "metadata": {},
   "outputs": [
    {
     "data": {
      "text/plain": [
       "(<td>\n",
       " \t\t\t\t\t\t\t\t\t\t\t1-3階</td>,\n",
       " <td>\n",
       " <ul>\n",
       " <li><span class=\"cassetteitem_price cassetteitem_price--rent\"><span class=\"cassetteitem_other-emphasis ui-text--bold\">40万円</span></span></li>\n",
       " <li><span class=\"cassetteitem_price cassetteitem_price--administration\">-</span></li>\n",
       " </ul>\n",
       " </td>,\n",
       " <td>\n",
       " <ul>\n",
       " <li><span class=\"cassetteitem_price cassetteitem_price--deposit\">80万円</span></li>\n",
       " <li><span class=\"cassetteitem_price cassetteitem_price--gratuity\">20万円</span></li>\n",
       " </ul>\n",
       " </td>,\n",
       " <td>\n",
       " <ul>\n",
       " <li><span class=\"cassetteitem_madori\">7LDK</span></li>\n",
       " <li><span class=\"cassetteitem_menseki\">130.47m<sup>2</sup></span></li>\n",
       " </ul>\n",
       " </td>)"
      ]
     },
     "execution_count": 16,
     "metadata": {},
     "output_type": "execute_result"
    }
   ],
   "source": [
    "#変数の中身に確認\n",
    "floor, price, first_fee, capacity"
   ]
  },
  {
   "cell_type": "code",
   "execution_count": 21,
   "metadata": {},
   "outputs": [],
   "source": [
    "#変数feeとmanagement_feeに、賃料と管理費を格納\n",
    "fee, management_fee = price.find_all(\"li\")\n",
    "#変数depositとgratuityに、敷金と礼金を格納\n",
    "deposit, gratuity = first_fee.find_all(\"li\")\n",
    "#変数madoriとmensekiに、間取りと面積を格納\n",
    "madori, menseki = capacity.find_all(\"li\")"
   ]
  },
  {
   "cell_type": "code",
   "execution_count": 18,
   "metadata": {},
   "outputs": [
    {
     "name": "stdout",
     "output_type": "stream",
     "text": [
      "<li><span class=\"cassetteitem_price cassetteitem_price--rent\"><span class=\"cassetteitem_other-emphasis ui-text--bold\">40万円</span></span></li>\n",
      "<li><span class=\"cassetteitem_price cassetteitem_price--administration\">-</span></li>\n",
      "\n",
      "<li><span class=\"cassetteitem_price cassetteitem_price--deposit\">80万円</span></li>\n",
      "<li><span class=\"cassetteitem_price cassetteitem_price--gratuity\">20万円</span></li>\n",
      "\n",
      "<li><span class=\"cassetteitem_madori\">7LDK</span></li>\n",
      "<li><span class=\"cassetteitem_menseki\">130.47m<sup>2</sup></span></li>\n",
      "\n"
     ]
    }
   ],
   "source": [
    "print(fee)\n",
    "print(management_fee)\n",
    "print()\n",
    "print(deposit)\n",
    "print(gratuity)\n",
    "print()\n",
    "print(madori)\n",
    "print(menseki)\n",
    "print()"
   ]
  },
  {
   "cell_type": "code",
   "execution_count": 19,
   "metadata": {},
   "outputs": [],
   "source": [
    "#変数dにこれまで取得した11項目を格納\n",
    "d = {\n",
    "    \"title\":title,\n",
    "    \"address\":address,\n",
    "    \"access\":access,\n",
    "    \"age\":age,\n",
    "    \"floor\":floor.text,\n",
    "    \"fee\":fee.text,\n",
    "    \"management_fee\":management_fee.text,\n",
    "    \"deposit\":deposit.text,\n",
    "    \"gratuity\":gratuity.text,\n",
    "    \"madori\":madori.text,\n",
    "    \"menseki\":menseki.text\n",
    "}"
   ]
  },
  {
   "cell_type": "code",
   "execution_count": 20,
   "metadata": {},
   "outputs": [
    {
     "data": {
      "text/plain": [
       "{'title': '西新宿4丁目戸建て',\n",
       " 'address': '東京都新宿区西新宿４',\n",
       " 'access': '\\n都営大江戸線/西新宿五丁目駅 歩6分\\n都営大江戸線/都庁前駅 歩10分\\n京王新線/初台駅 歩10分\\n',\n",
       " 'age': '\\n築25年\\n3階建\\n',\n",
       " 'floor': '\\r\\n\\t\\t\\t\\t\\t\\t\\t\\t\\t\\t\\t1-3階',\n",
       " 'fee': '40万円',\n",
       " 'management_fee': '-',\n",
       " 'deposit': '80万円',\n",
       " 'gratuity': '20万円',\n",
       " 'madori': '7LDK',\n",
       " 'menseki': '130.47m2'}"
      ]
     },
     "execution_count": 20,
     "metadata": {},
     "output_type": "execute_result"
    }
   ],
   "source": [
    "#変数ｄの中身の確認\n",
    "d"
   ]
  },
  {
   "cell_type": "code",
   "execution_count": 27,
   "metadata": {},
   "outputs": [],
   "source": [
    "#変数d_listに空のリストを作成\n",
    "d_list = []\n",
    "#cassetteクラスを持ったdivタグをすべて取得して変数contentsに格納\n",
    "contents = soup.find_all(\"div\", class_=\"cassetteitem\")\n",
    "#各物件情報をforループで取得\n",
    "for content in contents:\n",
    "    #物件・建物情報\n",
    "    detail = content.find(\"div\", class_=\"cassetteitem-detail\")\n",
    "    title = detail.find(\"div\", class_=\"cassetteitem_content-title\").text\n",
    "    address = detail.find(\"li\", class_=\"cassetteitem_detail-col1\").text\n",
    "    access = detail.find(\"li\", class_=\"cassetteitem_detail-col2\").text\n",
    "    age = detail.find(\"li\", class_=\"cassetteitem_detail-col3\").text\n",
    "    \n",
    "    #各部屋の情報\n",
    "    table = content.find(\"table\", class_=\"cassetteitem_other\")\n",
    "    tr_tags = table.find_all(\"tr\", class_=\"js-cassette_link\")\n",
    "    #各部屋情報をforループで取得\n",
    "    for tr_tag in tr_tags:\n",
    "        floor, price, first_fee, capacity = tr_tag.find_all(\"td\")[2:6]\n",
    "        fee, management_fee = price.find_all(\"li\")\n",
    "        deposit, gratuity = first_fee.find_all(\"li\")\n",
    "        madori, menseki = capacity.find_all(\"li\")\n",
    "        \n",
    "        #変数dにこれまで取得した11項目を格納\n",
    "        d = {\n",
    "            \"title\":title,\n",
    "            \"address\":address,\n",
    "            \"access\":access,\n",
    "            \"age\":age,\n",
    "            \"floor\":floor.text,\n",
    "            \"fee\":fee.text,\n",
    "            \"management_fee\":management_fee.text,\n",
    "            \"deposit\":deposit.text,\n",
    "            \"gratuity\":gratuity.text,\n",
    "            \"madori\":madori.text,\n",
    "            \"menseki\":menseki.text\n",
    "        }\n",
    "    \n",
    "        #取得した辞書ｄをd_listに格納\n",
    "        d_list.append(d)"
   ]
  },
  {
   "cell_type": "code",
   "execution_count": 24,
   "metadata": {},
   "outputs": [],
   "source": [
    "from pprint import pprint"
   ]
  },
  {
   "cell_type": "code",
   "execution_count": 29,
   "metadata": {},
   "outputs": [
    {
     "name": "stdout",
     "output_type": "stream",
     "text": [
      "{'access': '\\n都営大江戸線/西新宿五丁目駅 歩6分\\n都営大江戸線/都庁前駅 歩10分\\n京王新線/初台駅 歩10分\\n',\n",
      " 'address': '東京都新宿区西新宿４',\n",
      " 'age': '\\n築25年\\n3階建\\n',\n",
      " 'deposit': '80万円',\n",
      " 'fee': '40万円',\n",
      " 'floor': '\\r\\n\\t\\t\\t\\t\\t\\t\\t\\t\\t\\t\\t1-3階',\n",
      " 'gratuity': '20万円',\n",
      " 'madori': '7LDK',\n",
      " 'management_fee': '-',\n",
      " 'menseki': '130.47m2',\n",
      " 'title': '西新宿4丁目戸建て'}\n",
      "\n",
      "{'access': '\\n東京メトロ丸ノ内線/新宿御苑前駅 歩7分\\n東京メトロ丸ノ内線/四谷三丁目駅 歩13分\\n都営新宿線/曙橋駅 歩10分\\n',\n",
      " 'address': '東京都新宿区富久町',\n",
      " 'age': '\\n築7年\\n地下2地上55階建\\n',\n",
      " 'deposit': '19.3万円',\n",
      " 'fee': '19.3万円',\n",
      " 'floor': '\\r\\n\\t\\t\\t\\t\\t\\t\\t\\t\\t\\t\\t8階',\n",
      " 'gratuity': '19.3万円',\n",
      " 'madori': '1LDK',\n",
      " 'management_fee': '10000円',\n",
      " 'menseki': '42.29m2',\n",
      " 'title': 'TomihisaCrossComfort-富久クロスコンフォートタワー'}\n"
     ]
    }
   ],
   "source": [
    "pprint(d_list[0])\n",
    "print()\n",
    "pprint(d_list[4])"
   ]
  },
  {
   "cell_type": "code",
   "execution_count": null,
   "metadata": {},
   "outputs": [],
   "source": []
  }
 ],
 "metadata": {
  "kernelspec": {
   "display_name": "Python 3",
   "language": "python",
   "name": "python3"
  },
  "language_info": {
   "codemirror_mode": {
    "name": "ipython",
    "version": 3
   },
   "file_extension": ".py",
   "mimetype": "text/x-python",
   "name": "python",
   "nbconvert_exporter": "python",
   "pygments_lexer": "ipython3",
   "version": "3.8.5"
  }
 },
 "nbformat": 4,
 "nbformat_minor": 4
}
